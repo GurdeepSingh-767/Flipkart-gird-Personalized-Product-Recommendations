{
 "cells": [
  {
   "cell_type": "code",
   "execution_count": null,
   "metadata": {},
   "outputs": [],
   "source": [
    "import pandas as pd\n",
    "\n",
    "\n",
    "\n",
    "df = pd.read_csv('product.csv')\n",
    "\n",
    "# Remove duplicates based on all columns\n",
    "df = df.drop_duplicates()\n",
    "# df= df.drop(columns=['product_link'])\n",
    "df['discount_percentage'] = df['discount_percentage'].str.replace('%', '')\n",
    "df['rating'] = df['rating'].str.replace(',', '').astype(float)\n",
    "df['rating_count'] = df['rating_count'].str.replace(',', '').astype(int)\n",
    "# Print the distinct DataFrame\n",
    "print(df.iloc[1281])\n",
    "df.to_csv(\"product_detail.csv\", index=False)\n"
   ]
  }
 ],
 "metadata": {
  "kernelspec": {
   "display_name": "Python 3",
   "language": "python",
   "name": "python3"
  },
  "language_info": {
   "name": "python",
   "version": "3.9.7"
  },
  "orig_nbformat": 4
 },
 "nbformat": 4,
 "nbformat_minor": 2
}
